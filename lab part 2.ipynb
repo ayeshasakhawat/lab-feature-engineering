{
 "cells": [
  {
   "cell_type": "code",
   "execution_count": null,
   "id": "5747c404",
   "metadata": {},
   "outputs": [],
   "source": [
    "import pandas as pd\n",
    "import numpy as np\n",
    "import matplotlib.pyplot as plt\n",
    "import seaborn as sns \n",
    "pd.set_option('display.max_columns', None)\n",
    "import warnings\n",
    "warnings.filterwarnings('ignore')"
   ]
  },
  {
   "cell_type": "code",
   "execution_count": null,
   "id": "bb5a1a1f",
   "metadata": {},
   "outputs": [],
   "source": [
    "data = pd.read_csv('learningSet.csv')"
   ]
  },
  {
   "cell_type": "code",
   "execution_count": null,
   "id": "48402b78",
   "metadata": {},
   "outputs": [],
   "source": [
    "numerical = data.select_dtypes(np.number)\n",
    "numerical.head()"
   ]
  },
  {
   "cell_type": "markdown",
   "id": "3cfae521",
   "metadata": {},
   "source": [
    "### Check for null values in the numerical columns.\n"
   ]
  },
  {
   "cell_type": "code",
   "execution_count": null,
   "id": "ac29ff65",
   "metadata": {},
   "outputs": [],
   "source": [
    "nulls_percent_df = pd.DataFrame(numerical.isna().sum()/len(numerical)).reset_index()\n",
    "nulls_percent_df.columns = ['column_name', 'nulls_percentage'] "
   ]
  },
  {
   "cell_type": "code",
   "execution_count": null,
   "id": "e57acd20",
   "metadata": {},
   "outputs": [],
   "source": [
    "nulls_percent_df[nulls_percent_df['nulls_percentage']!=0]"
   ]
  },
  {
   "cell_type": "code",
   "execution_count": null,
   "id": "fe86952c",
   "metadata": {},
   "outputs": [],
   "source": [
    "nulls_percent_df[nulls_percent_df['nulls_percentage']!=0].head(60)"
   ]
  },
  {
   "cell_type": "code",
   "execution_count": null,
   "id": "45915856",
   "metadata": {},
   "outputs": [],
   "source": [
    "nulls_percent_df[nulls_percent_df['nulls_percentage']!=0].tail(32)"
   ]
  },
  {
   "cell_type": "markdown",
   "id": "25a7e423",
   "metadata": {},
   "source": [
    "### Use appropriate methods to clean the columns GEOCODE2, WEALTH1, ADI, DMA,and MSA.\n"
   ]
  },
  {
   "cell_type": "code",
   "execution_count": null,
   "id": "61de38c9",
   "metadata": {},
   "outputs": [],
   "source": [
    "list_columns = ['GEOCODE2', 'WEALTH1', 'ADI', 'DMA', 'MSA']"
   ]
  },
  {
   "cell_type": "code",
   "execution_count": null,
   "id": "5b47e3e2",
   "metadata": {},
   "outputs": [],
   "source": [
    "for col in list_columns:\n",
    "    value_counts = data[col].value_counts(dropna=False)\n",
    "    unique_values = data[col].unique()\n",
    "    print(value_counts)"
   ]
  },
  {
   "cell_type": "markdown",
   "id": "c9de6eb7",
   "metadata": {},
   "source": [
    "### Cleaning GEOCODE2"
   ]
  },
  {
   "cell_type": "code",
   "execution_count": null,
   "id": "69b351b7",
   "metadata": {},
   "outputs": [],
   "source": [
    "print(data['GEOCODE2'].mode())\n",
    "data['GEOCODE2'] = data['GEOCODE2'].fillna('A')\n",
    "data['GEOCODE2'] = data['GEOCODE2'].apply(lambda a: a.replace(' ','A'))\n",
    "print(data['GEOCODE2'].value_counts(dropna=False))"
   ]
  },
  {
   "cell_type": "markdown",
   "id": "57e01e07",
   "metadata": {},
   "source": [
    "### Cleaning WEALTH1"
   ]
  },
  {
   "cell_type": "code",
   "execution_count": null,
   "id": "1266c47a",
   "metadata": {},
   "outputs": [],
   "source": [
    "sns.distplot(data['WEALTH1']) \n",
    "print(plt.show())"
   ]
  },
  {
   "cell_type": "code",
   "execution_count": null,
   "id": "fa2b76be",
   "metadata": {},
   "outputs": [],
   "source": [
    "data['WEALTH1'].mode()"
   ]
  },
  {
   "cell_type": "code",
   "execution_count": null,
   "id": "fa9c7f2e",
   "metadata": {},
   "outputs": [],
   "source": [
    "data['WEALTH1'] = data['WEALTH1'].fillna('Other')"
   ]
  },
  {
   "cell_type": "code",
   "execution_count": null,
   "id": "9f00afd8",
   "metadata": {},
   "outputs": [],
   "source": [
    "# sns.distplot(data['WEALTH1']) \n",
    "#print(plt.show())"
   ]
  },
  {
   "cell_type": "code",
   "execution_count": null,
   "id": "ef43d467",
   "metadata": {
    "scrolled": true
   },
   "outputs": [],
   "source": [
    "data['WEALTH1'].value_counts(dropna = False)"
   ]
  },
  {
   "cell_type": "markdown",
   "id": "e53cb708",
   "metadata": {},
   "source": [
    "### Cleaning ADI"
   ]
  },
  {
   "cell_type": "code",
   "execution_count": null,
   "id": "14374abd",
   "metadata": {},
   "outputs": [],
   "source": [
    "data['ADI'].value_counts(dropna = False)"
   ]
  },
  {
   "cell_type": "code",
   "execution_count": null,
   "id": "9ba27d0b",
   "metadata": {},
   "outputs": [],
   "source": [
    "data['ADI'].isna().sum()"
   ]
  },
  {
   "cell_type": "code",
   "execution_count": null,
   "id": "63a958d9",
   "metadata": {},
   "outputs": [],
   "source": [
    "data['ADI'].mean()"
   ]
  },
  {
   "cell_type": "code",
   "execution_count": null,
   "id": "8c5f3614",
   "metadata": {},
   "outputs": [],
   "source": [
    "sns.distplot(data['ADI']) \n",
    "print(plt.show())"
   ]
  },
  {
   "cell_type": "code",
   "execution_count": null,
   "id": "86e4ff96",
   "metadata": {},
   "outputs": [],
   "source": [
    "data['ADI'] = data['ADI'].fillna(data['ADI'].mean())"
   ]
  },
  {
   "cell_type": "code",
   "execution_count": null,
   "id": "f86b9210",
   "metadata": {},
   "outputs": [],
   "source": [
    "sns.distplot(data['ADI']) \n",
    "print(plt.show())"
   ]
  },
  {
   "cell_type": "code",
   "execution_count": null,
   "id": "bbe4b530",
   "metadata": {},
   "outputs": [],
   "source": [
    "data['ADI'].isna().sum()"
   ]
  },
  {
   "cell_type": "markdown",
   "id": "eeadddbe",
   "metadata": {},
   "source": [
    "### Cleaning DMA"
   ]
  },
  {
   "cell_type": "code",
   "execution_count": null,
   "id": "483cf499",
   "metadata": {},
   "outputs": [],
   "source": [
    "data['DMA'].isna().sum()"
   ]
  },
  {
   "cell_type": "code",
   "execution_count": null,
   "id": "29e172fe",
   "metadata": {},
   "outputs": [],
   "source": [
    "data['DMA'].unique()"
   ]
  },
  {
   "cell_type": "code",
   "execution_count": null,
   "id": "838a7533",
   "metadata": {},
   "outputs": [],
   "source": [
    "sns.distplot(data['DMA']) \n",
    "print(plt.show())"
   ]
  },
  {
   "cell_type": "code",
   "execution_count": null,
   "id": "79ba1445",
   "metadata": {},
   "outputs": [],
   "source": [
    "data['DMA'].mean()\n"
   ]
  },
  {
   "cell_type": "code",
   "execution_count": null,
   "id": "4e8284c3",
   "metadata": {},
   "outputs": [],
   "source": [
    "data['DMA'] = data['DMA'].fillna(data['DMA'].mean())"
   ]
  },
  {
   "cell_type": "code",
   "execution_count": null,
   "id": "5c7d84ec",
   "metadata": {},
   "outputs": [],
   "source": [
    "data['DMA'].isna().sum()"
   ]
  },
  {
   "cell_type": "code",
   "execution_count": null,
   "id": "6d6d1c08",
   "metadata": {
    "scrolled": true
   },
   "outputs": [],
   "source": [
    "sns.distplot(data['DMA']) \n",
    "print(plt.show())"
   ]
  },
  {
   "cell_type": "markdown",
   "id": "e9d0c310",
   "metadata": {},
   "source": [
    "### Cleaning MSA"
   ]
  },
  {
   "cell_type": "code",
   "execution_count": null,
   "id": "8b728151",
   "metadata": {},
   "outputs": [],
   "source": [
    "sns.distplot(data['MSA']) \n",
    "print(plt.show())"
   ]
  },
  {
   "cell_type": "code",
   "execution_count": null,
   "id": "3106cc69",
   "metadata": {},
   "outputs": [],
   "source": [
    "data['MSA'].unique()"
   ]
  },
  {
   "cell_type": "code",
   "execution_count": null,
   "id": "d1aeb9ff",
   "metadata": {},
   "outputs": [],
   "source": [
    "data['MSA'] = data['MSA'].fillna(data['MSA'].mean())"
   ]
  },
  {
   "cell_type": "code",
   "execution_count": null,
   "id": "91d89bc1",
   "metadata": {},
   "outputs": [],
   "source": [
    "sns.distplot(data['MSA']) \n",
    "print(plt.show())"
   ]
  },
  {
   "cell_type": "code",
   "execution_count": null,
   "id": "c5eb6df1",
   "metadata": {},
   "outputs": [],
   "source": [
    "data['MSA'].isna().sum()"
   ]
  }
 ],
 "metadata": {
  "kernelspec": {
   "display_name": "Python 3 (ipykernel)",
   "language": "python",
   "name": "python3"
  },
  "language_info": {
   "codemirror_mode": {
    "name": "ipython",
    "version": 3
   },
   "file_extension": ".py",
   "mimetype": "text/x-python",
   "name": "python",
   "nbconvert_exporter": "python",
   "pygments_lexer": "ipython3",
   "version": "3.9.13"
  }
 },
 "nbformat": 4,
 "nbformat_minor": 5
}
